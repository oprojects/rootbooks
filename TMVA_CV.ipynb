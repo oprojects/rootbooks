{
 "cells": [
  {
   "cell_type": "markdown",
   "metadata": {},
   "source": [
    "<img src=\"http://oproject.org/tiki-download_file.php?fileId=8&display&x=450&y=128\">\n",
    "<img src=\"http://files.oproject.org/tmvalogo.png\" height=\"50%\" width=\"50%\">\n",
    "\n",
    "# TMVA Cross Validation"
   ]
  },
  {
   "cell_type": "markdown",
   "metadata": {},
   "source": [
    "## Declare Factory"
   ]
  },
  {
   "cell_type": "code",
   "execution_count": 1,
   "metadata": {
    "collapsed": false
   },
   "outputs": [],
   "source": [
    "TMVA::Tools::Instance();\n",
    "\n",
    "auto inputFile = TFile::Open(\"https://raw.githubusercontent.com/iml-wg/tmvatutorials/master/inputdata.root\");\n",
    "auto outputFile = TFile::Open(\"TMVAOutputCV.root\", \"RECREATE\");\n",
    "\n",
    "TMVA::Factory factory(\"TMVAClassification\", outputFile,\n",
    "                      \"!V:!ROC:!Correlations:Silent:Color:!DrawProgressBar:AnalysisType=Classification\" ); "
   ]
  },
  {
   "cell_type": "markdown",
   "metadata": {},
   "source": [
    "## Declare DataLoader"
   ]
  },
  {
   "cell_type": "code",
   "execution_count": 2,
   "metadata": {
    "collapsed": false
   },
   "outputs": [],
   "source": [
    "TMVA::DataLoader loader(\"dataset\");\n",
    "\n",
    "loader.AddVariable(\"var1\");\n",
    "loader.AddVariable(\"var2\");\n",
    "loader.AddVariable(\"var3\");\n",
    "loader.AddVariable(\"var4\");\n",
    "loader.AddVariable(\"var5 := var1-var2\");\n",
    "loader.AddVariable(\"var6 := var1*var2\");"
   ]
  },
  {
   "cell_type": "markdown",
   "metadata": {},
   "source": [
    "## Setup Dataset"
   ]
  },
  {
   "cell_type": "code",
   "execution_count": 3,
   "metadata": {
    "collapsed": false
   },
   "outputs": [],
   "source": [
    "TTree *tsignal, *tbackground;\n",
    "inputFile->GetObject(\"Sig\", tsignal);\n",
    "inputFile->GetObject(\"Bkg\", tbackground);\n",
    "\n",
    "TCut mycuts, mycutb;\n",
    "   \n",
    "loader.AddSignalTree    ( tsignal,     1.0 ); //signal weight     = 1\n",
    "loader.AddBackgroundTree( tbackground, 1.0 ); //background weight = 1      \n",
    "loader.PrepareTrainingAndTestTree( mycuts, mycutb,\n",
    "\"nTrain_Signal=1000:nTrain_Background=1000:SplitMode=Random:NormMode=NumEvents:!V\" ); "
   ]
  },
  {
   "cell_type": "markdown",
   "metadata": {},
   "source": [
    "## Perform Cross Validation"
   ]
  },
  {
   "cell_type": "code",
   "execution_count": 4,
   "metadata": {
    "collapsed": false
   },
   "outputs": [
    {
     "name": "stdout",
     "output_type": "stream",
     "text": [
      "Fold 1 ROCIntegral: 0.849132\n",
      "Fold 2 ROCIntegral: 0.84909\n",
      "Fold 3 ROCIntegral: 0.854479\n",
      "Fold 4 ROCIntegral: 0.872519\n",
      "Fold 5 ROCIntegral: 0.860324\n",
      "Average ROCIntegral: 0.857109\n"
     ]
    }
   ],
   "source": [
    "factory.CrossValidate(&loader, TMVA::Types::kBDT, \"BDT\",\n",
    "                      \"!V:NTrees=10:MinNodeSize=2.5%:MaxDepth=2:BoostType=AdaBoost:AdaBoostBeta=0.5:UseBaggedBoost:BaggedSampleFraction=0.5:SeparationType=GiniIndex:nCuts=20\", \n",
    "                      /*optimise hyper-parameters*/ false, \n",
    "                      /*Number of folds*/ 5);"
   ]
  }
 ],
 "metadata": {
  "kernelspec": {
   "display_name": "ROOT C++",
   "language": "c++",
   "name": "root"
  },
  "language_info": {
   "codemirror_mode": "text/x-c++src",
   "file_extension": ".C",
   "mimetype": " text/x-c++src",
   "name": "c++"
  }
 },
 "nbformat": 4,
 "nbformat_minor": 0
}
